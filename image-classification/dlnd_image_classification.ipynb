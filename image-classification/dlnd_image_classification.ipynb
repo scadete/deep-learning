{
 "cells": [
  {
   "cell_type": "markdown",
   "metadata": {
    "collapsed": true
   },
   "source": [
    "# Image Classification\n",
    "In this project, you'll classify images from the [CIFAR-10 dataset](https://www.cs.toronto.edu/~kriz/cifar.html).  The dataset consists of airplanes, dogs, cats, and other objects. You'll preprocess the images, then train a convolutional neural network on all the samples. The images need to be normalized and the labels need to be one-hot encoded.  You'll get to apply what you learned and build a convolutional, max pooling, dropout, and fully connected layers.  At the end, you'll get to see your neural network's predictions on the sample images.\n",
    "## Get the Data\n",
    "Run the following cell to download the [CIFAR-10 dataset for python](https://www.cs.toronto.edu/~kriz/cifar-10-python.tar.gz)."
   ]
  },
  {
   "cell_type": "code",
   "execution_count": 4,
   "metadata": {},
   "outputs": [
    {
     "name": "stdout",
     "output_type": "stream",
     "text": [
      "All files found!\n"
     ]
    }
   ],
   "source": [
    "\"\"\"\n",
    "DON'T MODIFY ANYTHING IN THIS CELL THAT IS BELOW THIS LINE\n",
    "\"\"\"\n",
    "from urllib.request import urlretrieve\n",
    "from os.path import isfile, isdir\n",
    "from tqdm import tqdm\n",
    "import problem_unittests as tests\n",
    "import tarfile\n",
    "\n",
    "cifar10_dataset_folder_path = 'cifar-10-batches-py'\n",
    "\n",
    "# Use Floyd's cifar-10 dataset if present\n",
    "floyd_cifar10_location = '/cifar/cifar-10-python.tar.gz'\n",
    "if isfile(floyd_cifar10_location):\n",
    "    tar_gz_path = floyd_cifar10_location\n",
    "else:\n",
    "    tar_gz_path = 'cifar-10-python.tar.gz'\n",
    "\n",
    "class DLProgress(tqdm):\n",
    "    last_block = 0\n",
    "\n",
    "    def hook(self, block_num=1, block_size=1, total_size=None):\n",
    "        self.total = total_size\n",
    "        self.update((block_num - self.last_block) * block_size)\n",
    "        self.last_block = block_num\n",
    "\n",
    "if not isfile(tar_gz_path):\n",
    "    with DLProgress(unit='B', unit_scale=True, miniters=1, desc='CIFAR-10 Dataset') as pbar:\n",
    "        urlretrieve(\n",
    "            'https://www.cs.toronto.edu/~kriz/cifar-10-python.tar.gz',\n",
    "            tar_gz_path,\n",
    "            pbar.hook)\n",
    "\n",
    "if not isdir(cifar10_dataset_folder_path):\n",
    "    with tarfile.open(tar_gz_path) as tar:\n",
    "        tar.extractall()\n",
    "        tar.close()\n",
    "\n",
    "\n",
    "tests.test_folder_path(cifar10_dataset_folder_path)"
   ]
  },
  {
   "cell_type": "markdown",
   "metadata": {},
   "source": [
    "## Explore the Data\n",
    "The dataset is broken into batches to prevent your machine from running out of memory.  The CIFAR-10 dataset consists of 5 batches, named `data_batch_1`, `data_batch_2`, etc.. Each batch contains the labels and images that are one of the following:\n",
    "* airplane\n",
    "* automobile\n",
    "* bird\n",
    "* cat\n",
    "* deer\n",
    "* dog\n",
    "* frog\n",
    "* horse\n",
    "* ship\n",
    "* truck\n",
    "\n",
    "Understanding a dataset is part of making predictions on the data.  Play around with the code cell below by changing the `batch_id` and `sample_id`. The `batch_id` is the id for a batch (1-5). The `sample_id` is the id for a image and label pair in the batch.\n",
    "\n",
    "Ask yourself \"What are all possible labels?\", \"What is the range of values for the image data?\", \"Are the labels in order or random?\".  Answers to questions like these will help you preprocess the data and end up with better predictions."
   ]
  },
  {
   "cell_type": "code",
   "execution_count": 5,
   "metadata": {},
   "outputs": [
    {
     "name": "stdout",
     "output_type": "stream",
     "text": [
      "\n",
      "Stats of batch 4:\n",
      "Samples: 10000\n",
      "Label Counts: {0: 1003, 1: 963, 2: 1041, 3: 976, 4: 1004, 5: 1021, 6: 1004, 7: 981, 8: 1024, 9: 983}\n",
      "First 20 Labels: [0, 6, 0, 2, 7, 2, 1, 2, 4, 1, 5, 6, 6, 3, 1, 3, 5, 5, 8, 1]\n",
      "\n",
      "Example of Image 75:\n",
      "Image - Min Value: 0 Max Value: 242\n",
      "Image - Shape: (32, 32, 3)\n",
      "Label - Label Id: 7 Name: horse\n"
     ]
    },
    {
     "data": {
      "image/png": "[encoded data removed]",
      "text/plain": [
       "<matplotlib.figure.Figure at 0x7f2e110fc3c8>"
      ]
     },
     "metadata": {
      "image/png": {
       "height": 250,
       "width": 253
      }
     },
     "output_type": "display_data"
    }
   ],
   "source": [
    "%matplotlib inline\n",
    "%config InlineBackend.figure_format = 'retina'\n",
    "\n",
    "import helper\n",
    "import numpy as np\n",
    "\n",
    "# Explore the dataset\n",
    "batch_id = 4\n",
    "sample_id = 75\n",
    "helper.display_stats(cifar10_dataset_folder_path, batch_id, sample_id)"
   ]
  },
  {
   "cell_type": "markdown",
   "metadata": {},
   "source": [
    "## Implement Preprocess Functions\n",
    "### Normalize\n",
    "In the cell below, implement the `normalize` function to take in image data, `x`, and return it as a normalized Numpy array. The values should be in the range of 0 to 1, inclusive.  The return object should be the same shape as `x`."
   ]
  },
  {
   "cell_type": "code",
   "execution_count": 6,
   "metadata": {},
   "outputs": [
    {
     "name": "stdout",
     "output_type": "stream",
     "text": [
      "Tests Passed\n"
     ]
    }
   ],
   "source": [
    "def normalize(x):\n",
    "    \"\"\"\n",
    "    Normalize a list of sample image data in the range of 0 to 1\n",
    "    : x: List of image data.  The image shape is (32, 32, 3)\n",
    "    : return: Numpy array of normalize data\n",
    "    \"\"\"\n",
    "    # TODO: Implement Function\n",
    "    _min = np.min(x)\n",
    "    _max = np.max(x)\n",
    "    return (x - _min)/(_max - _min) # (a+(x-min)*(b-a)/(max-min) = (0+(x-min)*(1-0))/(max-min)\n",
    "\n",
    "\n",
    "\"\"\"\n",
    "DON'T MODIFY ANYTHING IN THIS CELL THAT IS BELOW THIS LINE\n",
    "\"\"\"\n",
    "tests.test_normalize(normalize)"
   ]
  },
  {
   "cell_type": "markdown",
   "metadata": {},
   "source": [
    "### One-hot encode\n",
    "Just like the previous code cell, you'll be implementing a function for preprocessing.  This time, you'll implement the `one_hot_encode` function. The input, `x`, are a list of labels.  Implement the function to return the list of labels as One-Hot encoded Numpy array.  The possible values for labels are 0 to 9. The one-hot encoding function should return the same encoding for each value between each call to `one_hot_encode`.  Make sure to save the map of encodings outside the function.\n",
    "\n",
    "Hint: Don't reinvent the wheel."
   ]
  },
  {
   "cell_type": "code",
   "execution_count": 7,
   "metadata": {},
   "outputs": [
    {
     "name": "stdout",
     "output_type": "stream",
     "text": [
      "Tests Passed\n"
     ]
    }
   ],
   "source": [
    "def one_hot_encode(x):\n",
    "    \"\"\"\n",
    "    One hot encode a list of sample labels. Return a one-hot encoded vector for each label.\n",
    "    : x: List of sample Labels\n",
    "    : return: Numpy array of one-hot encoded labels\n",
    "    \"\"\"\n",
    "    # TODO: Implement Function    \n",
    "    return np.eye(10)[x]\n",
    "\n",
    "\n",
    "\"\"\"\n",
    "DON'T MODIFY ANYTHING IN THIS CELL THAT IS BELOW THIS LINE\n",
    "\"\"\"\n",
    "tests.test_one_hot_encode(one_hot_encode)"
   ]
  },
  {
   "cell_type": "markdown",
   "metadata": {},
   "source": [
    "### Randomize Data\n",
    "As you saw from exploring the data above, the order of the samples are randomized.  It doesn't hurt to randomize it again, but you don't need to for this dataset."
   ]
  },
  {
   "cell_type": "markdown",
   "metadata": {},
   "source": [
    "## Preprocess all the data and save it\n",
    "Running the code cell below will preprocess all the CIFAR-10 data and save it to file. The code below also uses 10% of the training data for validation."
   ]
  },
  {
   "cell_type": "code",
   "execution_count": 8,
   "metadata": {
    "collapsed": true
   },
   "outputs": [],
   "source": [
    "\"\"\"\n",
    "DON'T MODIFY ANYTHING IN THIS CELL\n",
    "\"\"\"\n",
    "# Preprocess Training, Validation, and Testing Data\n",
    "helper.preprocess_and_save_data(cifar10_dataset_folder_path, normalize, one_hot_encode)"
   ]
  },
  {
   "cell_type": "markdown",
   "metadata": {},
   "source": [
    "# Check Point\n",
    "This is your first checkpoint.  If you ever decide to come back to this notebook or have to restart the notebook, you can start from here.  The preprocessed data has been saved to disk."
   ]
  },
  {
   "cell_type": "code",
   "execution_count": 9,
   "metadata": {},
   "outputs": [],
   "source": [
    "\"\"\"\n",
    "DON'T MODIFY ANYTHING IN THIS CELL\n",
    "\"\"\"\n",
    "import pickle\n",
    "import problem_unittests as tests\n",
    "import helper\n",
    "\n",
    "# Load the Preprocessed Validation data\n",
    "valid_features, valid_labels = pickle.load(open('preprocess_validation.p', mode='rb'))"
   ]
  },
  {
   "cell_type": "markdown",
   "metadata": {},
   "source": [
    "## Build the network\n",
    "For the neural network, you'll build each layer into a function.  Most of the code you've seen has been outside of functions. To test your code more thoroughly, we require that you put each layer in a function.  This allows us to give you better feedback and test for simple mistakes using our unittests before you submit your project.\n",
    "\n",
    ">**Note:** If you're finding it hard to dedicate enough time for this course each week, we've provided a small shortcut to this part of the project. In the next couple of problems, you'll have the option to use classes from the [TensorFlow Layers](https://www.tensorflow.org/api_docs/python/tf/layers) or [TensorFlow Layers (contrib)](https://www.tensorflow.org/api_guides/python/contrib.layers) packages to build each layer, except the layers you build in the \"Convolutional and Max Pooling Layer\" section.  TF Layers is similar to Keras's and TFLearn's abstraction to layers, so it's easy to pickup.\n",
    "\n",
    ">However, if you would like to get the most out of this course, try to solve all the problems _without_ using anything from the TF Layers packages. You **can** still use classes from other packages that happen to have the same name as ones you find in TF Layers! For example, instead of using the TF Layers version of the `conv2d` class, [tf.layers.conv2d](https://www.tensorflow.org/api_docs/python/tf/layers/conv2d), you would want to use the TF Neural Network version of `conv2d`, [tf.nn.conv2d](https://www.tensorflow.org/api_docs/python/tf/nn/conv2d). \n",
    "\n",
    "Let's begin!\n",
    "\n",
    "### Input\n",
    "The neural network needs to read the image data, one-hot encoded labels, and dropout keep probability. Implement the following functions\n",
    "* Implement `neural_net_image_input`\n",
    " * Return a [TF Placeholder](https://www.tensorflow.org/api_docs/python/tf/placeholder)\n",
    " * Set the shape using `image_shape` with batch size set to `None`.\n",
    " * Name the TensorFlow placeholder \"x\" using the TensorFlow `name` parameter in the [TF Placeholder](https://www.tensorflow.org/api_docs/python/tf/placeholder).\n",
    "* Implement `neural_net_label_input`\n",
    " * Return a [TF Placeholder](https://www.tensorflow.org/api_docs/python/tf/placeholder)\n",
    " * Set the shape using `n_classes` with batch size set to `None`.\n",
    " * Name the TensorFlow placeholder \"y\" using the TensorFlow `name` parameter in the [TF Placeholder](https://www.tensorflow.org/api_docs/python/tf/placeholder).\n",
    "* Implement `neural_net_keep_prob_input`\n",
    " * Return a [TF Placeholder](https://www.tensorflow.org/api_docs/python/tf/placeholder) for dropout keep probability.\n",
    " * Name the TensorFlow placeholder \"keep_prob\" using the TensorFlow `name` parameter in the [TF Placeholder](https://www.tensorflow.org/api_docs/python/tf/placeholder).\n",
    "\n",
    "These names will be used at the end of the project to load your saved model.\n",
    "\n",
    "Note: `None` for shapes in TensorFlow allow for a dynamic size."
   ]
  },
  {
   "cell_type": "code",
   "execution_count": 10,
   "metadata": {},
   "outputs": [
    {
     "name": "stdout",
     "output_type": "stream",
     "text": [
      "Image Input Tests Passed.\n",
      "Label Input Tests Passed.\n",
      "Keep Prob Tests Passed.\n"
     ]
    }
   ],
   "source": [
    "import tensorflow as tf\n",
    "\n",
    "def neural_net_image_input(image_shape):\n",
    "    \"\"\"\n",
    "    Return a Tensor for a batch of image input\n",
    "    : image_shape: Shape of the images\n",
    "    : return: Tensor for image input.\n",
    "    \"\"\"\n",
    "    # TODO: Implement Function\n",
    "    return tf.placeholder(tf.float32, [None, image_shape[0], image_shape[1], image_shape[2]], name='x')\n",
    "\n",
    "\n",
    "def neural_net_label_input(n_classes):\n",
    "    \"\"\"\n",
    "    Return a Tensor for a batch of label input\n",
    "    : n_classes: Number of classes\n",
    "    : return: Tensor for label input.\n",
    "    \"\"\"\n",
    "    # TODO: Implement Function\n",
    "    return tf.placeholder(tf.float32, [None, n_classes], name='y')\n",
    "\n",
    "\n",
    "def neural_net_keep_prob_input():\n",
    "    \"\"\"\n",
    "    Return a Tensor for keep probability\n",
    "    : return: Tensor for keep probability.\n",
    "    \"\"\"\n",
    "    # TODO: Implement Function\n",
    "    return tf.placeholder(tf.float32, name='keep_prob')\n",
    "\n",
    "\n",
    "\"\"\"\n",
    "DON'T MODIFY ANYTHING IN THIS CELL THAT IS BELOW THIS LINE\n",
    "\"\"\"\n",
    "tf.reset_default_graph()\n",
    "tests.test_nn_image_inputs(neural_net_image_input)\n",
    "tests.test_nn_label_inputs(neural_net_label_input)\n",
    "tests.test_nn_keep_prob_inputs(neural_net_keep_prob_input)"
   ]
  },
  {
   "cell_type": "markdown",
   "metadata": {},
   "source": [
    "### Convolution and Max Pooling Layer\n",
    "Convolution layers have a lot of success with images. For this code cell, you should implement the function `conv2d_maxpool` to apply convolution then max pooling:\n",
    "* Create the weight and bias using `conv_ksize`, `conv_num_outputs` and the shape of `x_tensor`.\n",
    "* Apply a convolution to `x_tensor` using weight and `conv_strides`.\n",
    " * We recommend you use same padding, but you're welcome to use any padding.\n",
    "* Add bias\n",
    "* Add a nonlinear activation to the convolution.\n",
    "* Apply Max Pooling using `pool_ksize` and `pool_strides`.\n",
    " * We recommend you use same padding, but you're welcome to use any padding.\n",
    "\n",
    "**Note:** You **can't** use [TensorFlow Layers](https://www.tensorflow.org/api_docs/python/tf/layers) or [TensorFlow Layers (contrib)](https://www.tensorflow.org/api_guides/python/contrib.layers) for **this** layer, but you can still use TensorFlow's [Neural Network](https://www.tensorflow.org/api_docs/python/tf/nn) package. You may still use the shortcut option for all the **other** layers."
   ]
  },
  {
   "cell_type": "code",
   "execution_count": 11,
   "metadata": {},
   "outputs": [
    {
     "name": "stdout",
     "output_type": "stream",
     "text": [
      "Tests Passed\n"
     ]
    }
   ],
   "source": [
    "def conv2d_maxpool(x_tensor, conv_num_outputs, conv_ksize, conv_strides, pool_ksize, pool_strides):\n",
    "    \"\"\"\n",
    "    Apply convolution then max pooling to x_tensor\n",
    "    :param x_tensor: TensorFlow Tensor\n",
    "    :param conv_num_outputs: Number of outputs for the convolutional layer\n",
    "    :param conv_ksize: kernal size 2-D Tuple for the convolutional layer\n",
    "    :param conv_strides: Stride 2-D Tuple for convolution\n",
    "    :param pool_ksize: kernal size 2-D Tuple for pool\n",
    "    :param pool_strides: Stride 2-D Tuple for pool\n",
    "    : return: A tensor that represents convolution and max pooling of x_tensor\n",
    "    \"\"\"\n",
    "    # TODO: Implement Function\n",
    "    \n",
    "    # Weight and Bias\n",
    "    weight = tf.Variable(tf.truncated_normal([*conv_ksize, int(x_tensor.shape[3]), conv_num_outputs], stddev=0.1))\n",
    "    bias = tf.Variable(tf.zeros(conv_num_outputs))\n",
    "    \n",
    "    # Convolution\n",
    "    convolution = tf.nn.conv2d(x_tensor, weight, [1, *conv_strides, 1], 'SAME')\n",
    "    \n",
    "    # Add Bias\n",
    "    convolution = tf.nn.bias_add(convolution, bias)\n",
    "   \n",
    "    # Add Non Linear Activation\n",
    "    convolution = tf.nn.relu(convolution)\n",
    "                         \n",
    "    # Max Pooling\n",
    "    return tf.nn.max_pool(convolution, [1, *pool_ksize, 1], [1, *pool_strides, 1], padding='SAME') \n",
    "\n",
    "\n",
    "\"\"\"\n",
    "DON'T MODIFY ANYTHING IN THIS CELL THAT IS BELOW THIS LINE\n",
    "\"\"\"\n",
    "tests.test_con_pool(conv2d_maxpool)"
   ]
  },
  {
   "cell_type": "markdown",
   "metadata": {},
   "source": [
    "### Flatten Layer\n",
    "Implement the `flatten` function to change the dimension of `x_tensor` from a 4-D tensor to a 2-D tensor.  The output should be the shape (*Batch Size*, *Flattened Image Size*). Shortcut option: you can use classes from the [TensorFlow Layers](https://www.tensorflow.org/api_docs/python/tf/layers) or [TensorFlow Layers (contrib)](https://www.tensorflow.org/api_guides/python/contrib.layers) packages for this layer. For more of a challenge, only use other TensorFlow packages."
   ]
  },
  {
   "cell_type": "code",
   "execution_count": 12,
   "metadata": {},
   "outputs": [
    {
     "name": "stdout",
     "output_type": "stream",
     "text": [
      "Tests Passed\n"
     ]
    }
   ],
   "source": [
    "def flatten(x_tensor):\n",
    "    \"\"\"\n",
    "    Flatten x_tensor to (Batch Size, Flattened Image Size)\n",
    "    : x_tensor: A tensor of size (Batch Size, ...), where ... are the image dimensions.\n",
    "    : return: A tensor of size (Batch Size, Flattened Image Size).\n",
    "    \"\"\"\n",
    "    # TODO: Implement Function\n",
    "    _, *img_size = x_tensor.get_shape().as_list()\n",
    "    img_size = img_size[0] * img_size[1] * img_size[2]\n",
    "    return tf.reshape(x_tensor, [-1, img_size])\n",
    "\n",
    "\n",
    "\"\"\"\n",
    "DON'T MODIFY ANYTHING IN THIS CELL THAT IS BELOW THIS LINE\n",
    "\"\"\"\n",
    "tests.test_flatten(flatten)"
   ]
  },
  {
   "cell_type": "markdown",
   "metadata": {},
   "source": [
    "### Fully-Connected Layer\n",
    "Implement the `fully_conn` function to apply a fully connected layer to `x_tensor` with the shape (*Batch Size*, *num_outputs*). Shortcut option: you can use classes from the [TensorFlow Layers](https://www.tensorflow.org/api_docs/python/tf/layers) or [TensorFlow Layers (contrib)](https://www.tensorflow.org/api_guides/python/contrib.layers) packages for this layer. For more of a challenge, only use other TensorFlow packages."
   ]
  },
  {
   "cell_type": "code",
   "execution_count": 13,
   "metadata": {},
   "outputs": [
    {
     "name": "stdout",
     "output_type": "stream",
     "text": [
      "Tests Passed\n"
     ]
    }
   ],
   "source": [
    "def fully_conn(x_tensor, num_outputs):\n",
    "    \"\"\"\n",
    "    Apply a fully connected layer to x_tensor using weight and bias\n",
    "    : x_tensor: A 2-D tensor where the first dimension is batch size.\n",
    "    : num_outputs: The number of output that the new tensor should be.\n",
    "    : return: A 2-D tensor where the second dimension is num_outputs.\n",
    "    \"\"\"\n",
    "    # TODO: Implement Function\n",
    "    shape = x_tensor.get_shape().as_list()\n",
    "    weight = tf.Variable(tf.truncated_normal([shape[1], num_outputs], stddev=0.1))\n",
    "    bias = tf.Variable(tf.zeros(num_outputs))\n",
    "    \n",
    "    # Output\n",
    "    fully_conn_output = tf.add(tf.matmul(x_tensor, weight), bias)\n",
    "    \n",
    "    # Activation\n",
    "    return tf.nn.relu(fully_conn_output)\n",
    "\n",
    "\n",
    "\"\"\"\n",
    "DON'T MODIFY ANYTHING IN THIS CELL THAT IS BELOW THIS LINE\n",
    "\"\"\"\n",
    "tests.test_fully_conn(fully_conn)"
   ]
  },
  {
   "cell_type": "markdown",
   "metadata": {},
   "source": [
    "### Output Layer\n",
    "Implement the `output` function to apply a fully connected layer to `x_tensor` with the shape (*Batch Size*, *num_outputs*). Shortcut option: you can use classes from the [TensorFlow Layers](https://www.tensorflow.org/api_docs/python/tf/layers) or [TensorFlow Layers (contrib)](https://www.tensorflow.org/api_guides/python/contrib.layers) packages for this layer. For more of a challenge, only use other TensorFlow packages.\n",
    "\n",
    "**Note:** Activation, softmax, or cross entropy should **not** be applied to this."
   ]
  },
  {
   "cell_type": "code",
   "execution_count": 14,
   "metadata": {},
   "outputs": [
    {
     "name": "stdout",
     "output_type": "stream",
     "text": [
      "Tests Passed\n"
     ]
    }
   ],
   "source": [
    "def output(x_tensor, num_outputs):\n",
    "    \"\"\"\n",
    "    Apply a output layer to x_tensor using weight and bias\n",
    "    : x_tensor: A 2-D tensor where the first dimension is batch size.\n",
    "    : num_outputs: The number of output that the new tensor should be.\n",
    "    : return: A 2-D tensor where the second dimension is num_outputs.\n",
    "    \"\"\"\n",
    "    # TODO: Implement Function\n",
    "    shape = x_tensor.get_shape().as_list()\n",
    "    weight = tf.Variable(tf.truncated_normal([shape[1], num_outputs], stddev=0.1))\n",
    "    bias = tf.Variable(tf.zeros(num_outputs))\n",
    "    \n",
    "    # Output\n",
    "    return tf.add(tf.matmul(x_tensor, weight), bias)\n",
    "\n",
    "\n",
    "\"\"\"\n",
    "DON'T MODIFY ANYTHING IN THIS CELL THAT IS BELOW THIS LINE\n",
    "\"\"\"\n",
    "tests.test_output(output)"
   ]
  },
  {
   "cell_type": "markdown",
   "metadata": {},
   "source": [
    "### Create Convolutional Model\n",
    "Implement the function `conv_net` to create a convolutional neural network model. The function takes in a batch of images, `x`, and outputs logits.  Use the layers you created above to create this model:\n",
    "\n",
    "* Apply 1, 2, or 3 Convolution and Max Pool layers\n",
    "* Apply a Flatten Layer\n",
    "* Apply 1, 2, or 3 Fully Connected Layers\n",
    "* Apply an Output Layer\n",
    "* Return the output\n",
    "* Apply [TensorFlow's Dropout](https://www.tensorflow.org/api_docs/python/tf/nn/dropout) to one or more layers in the model using `keep_prob`. "
   ]
  },
  {
   "cell_type": "code",
   "execution_count": 20,
   "metadata": {},
   "outputs": [
    {
     "name": "stdout",
     "output_type": "stream",
     "text": [
      "Neural Network Built!\n"
     ]
    }
   ],
   "source": [
    "def conv_net(x, keep_prob):\n",
    "    \"\"\"\n",
    "    Create a convolutional neural network model\n",
    "    : x: Placeholder tensor that holds image data.\n",
    "    : keep_prob: Placeholder tensor that hold dropout keep probability.\n",
    "    : return: Tensor that represents logits\n",
    "    \"\"\"\n",
    "    # TODO: Apply 1, 2, or 3 Convolution and Max Pool layers\n",
    "    #    Play around with different number of outputs, kernel size and stride\n",
    "    # Function Definition from Above:\n",
    "    #    conv2d_maxpool(x_tensor, conv_num_outputs, conv_ksize, conv_strides, pool_ksize, pool_strides)\n",
    "    x_tensor = conv2d_maxpool(x, 32, (3, 3), (1, 1), (2, 2), (2, 2))\n",
    "    tf.nn.dropout(x_tensor, keep_prob=keep_prob)\n",
    "    \n",
    "    x_tensor = conv2d_maxpool(x, 64, (3, 3), (1, 1), (2, 2), (2, 2))\n",
    "    tf.nn.dropout(x_tensor, keep_prob=keep_prob)\n",
    "\n",
    "    # TODO: Apply a Flatten Layer\n",
    "    # Function Definition from Above:\n",
    "    #   flatten(x_tensor)\n",
    "    x_tensor = flatten(x_tensor)\n",
    "    \n",
    "\n",
    "    # TODO: Apply 1, 2, or 3 Fully Connected Layers\n",
    "    #    Play around with different number of outputs\n",
    "    # Function Definition from Above:\n",
    "    #   fully_conn(x_tensor, num_outputs)\n",
    "    x_tensor = fully_conn(x_tensor, 200)\n",
    "    \n",
    "    # TODO: Apply an Output Layer\n",
    "    #    Set this to the number of classes\n",
    "    # Function Definition from Above:\n",
    "    #   output(x_tensor, num_outputs)\n",
    "    conv_net_output = output(x_tensor, 10)\n",
    "    \n",
    "    # TODO: return output\n",
    "    return conv_net_output\n",
    "\n",
    "\n",
    "\"\"\"\n",
    "DON'T MODIFY ANYTHING IN THIS CELL THAT IS BELOW THIS LINE\n",
    "\"\"\"\n",
    "\n",
    "##############################\n",
    "## Build the Neural Network ##\n",
    "##############################\n",
    "\n",
    "# Remove previous weights, bias, inputs, etc..\n",
    "tf.reset_default_graph()\n",
    "\n",
    "# Inputs\n",
    "x = neural_net_image_input((32, 32, 3))\n",
    "y = neural_net_label_input(10)\n",
    "keep_prob = neural_net_keep_prob_input()\n",
    "\n",
    "# Model\n",
    "logits = conv_net(x, keep_prob)\n",
    "\n",
    "# Name logits Tensor, so that is can be loaded from disk after training\n",
    "logits = tf.identity(logits, name='logits')\n",
    "\n",
    "# Loss and Optimizer\n",
    "cost = tf.reduce_mean(tf.nn.softmax_cross_entropy_with_logits(logits=logits, labels=y))\n",
    "optimizer = tf.train.AdamOptimizer().minimize(cost)\n",
    "\n",
    "# Accuracy\n",
    "correct_pred = tf.equal(tf.argmax(logits, 1), tf.argmax(y, 1))\n",
    "accuracy = tf.reduce_mean(tf.cast(correct_pred, tf.float32), name='accuracy')\n",
    "\n",
    "tests.test_conv_net(conv_net)"
   ]
  },
  {
   "cell_type": "markdown",
   "metadata": {},
   "source": [
    "## Train the Neural Network\n",
    "### Single Optimization\n",
    "Implement the function `train_neural_network` to do a single optimization.  The optimization should use `optimizer` to optimize in `session` with a `feed_dict` of the following:\n",
    "* `x` for image input\n",
    "* `y` for labels\n",
    "* `keep_prob` for keep probability for dropout\n",
    "\n",
    "This function will be called for each batch, so `tf.global_variables_initializer()` has already been called.\n",
    "\n",
    "Note: Nothing needs to be returned. This function is only optimizing the neural network."
   ]
  },
  {
   "cell_type": "code",
   "execution_count": 21,
   "metadata": {},
   "outputs": [
    {
     "name": "stdout",
     "output_type": "stream",
     "text": [
      "Tests Passed\n"
     ]
    }
   ],
   "source": [
    "def train_neural_network(session, optimizer, keep_probability, feature_batch, label_batch):\n",
    "    \"\"\"\n",
    "    Optimize the session on a batch of images and labels\n",
    "    : session: Current TensorFlow session\n",
    "    : optimizer: TensorFlow optimizer function\n",
    "    : keep_probability: keep probability\n",
    "    : feature_batch: Batch of Numpy image data\n",
    "    : label_batch: Batch of Numpy label data\n",
    "    \"\"\"\n",
    "    # TODO: Implement Function\n",
    "    session.run(optimizer, feed_dict={\n",
    "        x: feature_batch,\n",
    "        y: label_batch,\n",
    "        keep_prob: keep_probability\n",
    "    })\n",
    "        \n",
    "    pass\n",
    "\n",
    "\n",
    "\"\"\"\n",
    "DON'T MODIFY ANYTHING IN THIS CELL THAT IS BELOW THIS LINE\n",
    "\"\"\"\n",
    "tests.test_train_nn(train_neural_network)"
   ]
  },
  {
   "cell_type": "markdown",
   "metadata": {},
   "source": [
    "### Show Stats\n",
    "Implement the function `print_stats` to print loss and validation accuracy.  Use the global variables `valid_features` and `valid_labels` to calculate validation accuracy.  Use a keep probability of `1.0` to calculate the loss and validation accuracy."
   ]
  },
  {
   "cell_type": "code",
   "execution_count": 22,
   "metadata": {
    "collapsed": true
   },
   "outputs": [],
   "source": [
    "def print_stats(session, feature_batch, label_batch, cost, accuracy):\n",
    "    \"\"\"\n",
    "    Print information about loss and validation accuracy\n",
    "    : session: Current TensorFlow session\n",
    "    : feature_batch: Batch of Numpy image data\n",
    "    : label_batch: Batch of Numpy label data\n",
    "    : cost: TensorFlow cost function\n",
    "    : accuracy: TensorFlow accuracy function\n",
    "    \"\"\"\n",
    "    # TODO: Implement Function\n",
    "    loss = session.run(cost, feed_dict={\n",
    "        x: feature_batch,\n",
    "        y: label_batch,\n",
    "        keep_prob: 1.\n",
    "    })\n",
    "    \n",
    "    valid_accuracy = session.run(accuracy, feed_dict={\n",
    "        x: valid_features,\n",
    "        y: valid_labels,\n",
    "        keep_prob: 1.\n",
    "    })\n",
    "    \n",
    "    print('Loss: {:>2.4f} Validation Accuracy: {:>1.4f}'.format(loss, valid_accuracy))\n",
    "    \n",
    "    pass"
   ]
  },
  {
   "cell_type": "markdown",
   "metadata": {},
   "source": [
    "### Hyperparameters\n",
    "Tune the following parameters:\n",
    "* Set `epochs` to the number of iterations until the network stops learning or start overfitting\n",
    "* Set `batch_size` to the highest number that your machine has memory for.  Most people set them to common sizes of memory:\n",
    " * 64\n",
    " * 128\n",
    " * 256\n",
    " * ...\n",
    "* Set `keep_probability` to the probability of keeping a node using dropout"
   ]
  },
  {
   "cell_type": "code",
   "execution_count": 33,
   "metadata": {
    "collapsed": true
   },
   "outputs": [],
   "source": [
    "# TODO: Tune Parameters\n",
    "epochs = 50\n",
    "batch_size = 512\n",
    "keep_probability = 0.5"
   ]
  },
  {
   "cell_type": "markdown",
   "metadata": {},
   "source": [
    "### Train on a Single CIFAR-10 Batch\n",
    "Instead of training the neural network on all the CIFAR-10 batches of data, let's use a single batch. This should save time while you iterate on the model to get a better accuracy.  Once the final validation accuracy is 50% or greater, run the model on all the data in the next section."
   ]
  },
  {
   "cell_type": "code",
   "execution_count": 34,
   "metadata": {},
   "outputs": [
    {
     "name": "stdout",
     "output_type": "stream",
     "text": [
      "Checking the Training on a Single Batch...\n",
      "Epoch  1, CIFAR-10 Batch 1:  Loss: 2.1185 Validation Accuracy: 0.2466\n",
      "Epoch  2, CIFAR-10 Batch 1:  Loss: 1.8115 Validation Accuracy: 0.3714\n",
      "Epoch  3, CIFAR-10 Batch 1:  Loss: 1.6118 Validation Accuracy: 0.4322\n",
      "Epoch  4, CIFAR-10 Batch 1:  Loss: 1.4469 Validation Accuracy: 0.4612\n",
      "Epoch  5, CIFAR-10 Batch 1:  Loss: 1.3061 Validation Accuracy: 0.4864\n",
      "Epoch  6, CIFAR-10 Batch 1:  Loss: 1.1820 Validation Accuracy: 0.5116\n",
      "Epoch  7, CIFAR-10 Batch 1:  Loss: 1.1009 Validation Accuracy: 0.5186\n",
      "Epoch  8, CIFAR-10 Batch 1:  Loss: 1.0319 Validation Accuracy: 0.5216\n",
      "Epoch  9, CIFAR-10 Batch 1:  Loss: 0.9453 Validation Accuracy: 0.5358\n",
      "Epoch 10, CIFAR-10 Batch 1:  Loss: 0.8729 Validation Accuracy: 0.5432\n",
      "Epoch 11, CIFAR-10 Batch 1:  Loss: 0.8089 Validation Accuracy: 0.5470\n",
      "Epoch 12, CIFAR-10 Batch 1:  Loss: 0.7489 Validation Accuracy: 0.5512\n",
      "Epoch 13, CIFAR-10 Batch 1:  Loss: 0.6916 Validation Accuracy: 0.5544\n",
      "Epoch 14, CIFAR-10 Batch 1:  Loss: 0.6385 Validation Accuracy: 0.5594\n",
      "Epoch 15, CIFAR-10 Batch 1:  Loss: 0.5907 Validation Accuracy: 0.5648\n",
      "Epoch 16, CIFAR-10 Batch 1:  Loss: 0.5525 Validation Accuracy: 0.5694\n",
      "Epoch 17, CIFAR-10 Batch 1:  Loss: 0.5347 Validation Accuracy: 0.5694\n",
      "Epoch 18, CIFAR-10 Batch 1:  Loss: 0.5423 Validation Accuracy: 0.5542\n",
      "Epoch 19, CIFAR-10 Batch 1:  Loss: 0.4962 Validation Accuracy: 0.5564\n",
      "Epoch 20, CIFAR-10 Batch 1:  Loss: 0.4674 Validation Accuracy: 0.5594\n",
      "Epoch 21, CIFAR-10 Batch 1:  Loss: 0.4427 Validation Accuracy: 0.5548\n",
      "Epoch 22, CIFAR-10 Batch 1:  Loss: 0.3766 Validation Accuracy: 0.5702\n",
      "Epoch 23, CIFAR-10 Batch 1:  Loss: 0.3379 Validation Accuracy: 0.5696\n",
      "Epoch 24, CIFAR-10 Batch 1:  Loss: 0.3099 Validation Accuracy: 0.5680\n",
      "Epoch 25, CIFAR-10 Batch 1:  Loss: 0.2898 Validation Accuracy: 0.5660\n",
      "Epoch 26, CIFAR-10 Batch 1:  Loss: 0.2731 Validation Accuracy: 0.5658\n",
      "Epoch 27, CIFAR-10 Batch 1:  Loss: 0.2649 Validation Accuracy: 0.5588\n",
      "Epoch 28, CIFAR-10 Batch 1:  Loss: 0.2712 Validation Accuracy: 0.5572\n",
      "Epoch 29, CIFAR-10 Batch 1:  Loss: 0.2570 Validation Accuracy: 0.5600\n",
      "Epoch 30, CIFAR-10 Batch 1:  Loss: 0.2510 Validation Accuracy: 0.5588\n",
      "Epoch 31, CIFAR-10 Batch 1:  Loss: 0.2729 Validation Accuracy: 0.5428\n",
      "Epoch 32, CIFAR-10 Batch 1:  Loss: 0.2320 Validation Accuracy: 0.5450\n",
      "Epoch 33, CIFAR-10 Batch 1:  Loss: 0.1998 Validation Accuracy: 0.5460\n",
      "Epoch 34, CIFAR-10 Batch 1:  Loss: 0.1774 Validation Accuracy: 0.5514\n",
      "Epoch 35, CIFAR-10 Batch 1:  Loss: 0.2270 Validation Accuracy: 0.5290\n",
      "Epoch 36, CIFAR-10 Batch 1:  Loss: 0.2032 Validation Accuracy: 0.5322\n",
      "Epoch 37, CIFAR-10 Batch 1:  Loss: 0.1647 Validation Accuracy: 0.5486\n",
      "Epoch 38, CIFAR-10 Batch 1:  Loss: 0.1247 Validation Accuracy: 0.5610\n",
      "Epoch 39, CIFAR-10 Batch 1:  Loss: 0.1038 Validation Accuracy: 0.5648\n",
      "Epoch 40, CIFAR-10 Batch 1:  Loss: 0.0902 Validation Accuracy: 0.5678\n",
      "Epoch 41, CIFAR-10 Batch 1:  Loss: 0.0885 Validation Accuracy: 0.5720\n",
      "Epoch 42, CIFAR-10 Batch 1:  Loss: 0.1039 Validation Accuracy: 0.5692\n",
      "Epoch 43, CIFAR-10 Batch 1:  Loss: 0.1586 Validation Accuracy: 0.5430\n",
      "Epoch 44, CIFAR-10 Batch 1:  Loss: 0.1048 Validation Accuracy: 0.5556\n",
      "Epoch 45, CIFAR-10 Batch 1:  Loss: 0.0992 Validation Accuracy: 0.5450\n",
      "Epoch 46, CIFAR-10 Batch 1:  Loss: 0.1031 Validation Accuracy: 0.5382\n",
      "Epoch 47, CIFAR-10 Batch 1:  Loss: 0.1036 Validation Accuracy: 0.5298\n",
      "Epoch 48, CIFAR-10 Batch 1:  Loss: 0.0589 Validation Accuracy: 0.5570\n",
      "Epoch 49, CIFAR-10 Batch 1:  Loss: 0.0774 Validation Accuracy: 0.5602\n",
      "Epoch 50, CIFAR-10 Batch 1:  Loss: 0.0490 Validation Accuracy: 0.5600\n"
     ]
    }
   ],
   "source": [
    "\"\"\"\n",
    "DON'T MODIFY ANYTHING IN THIS CELL\n",
    "\"\"\"\n",
    "print('Checking the Training on a Single Batch...')\n",
    "with tf.Session() as sess:\n",
    "    # Initializing the variables\n",
    "    sess.run(tf.global_variables_initializer())\n",
    "    \n",
    "    # Training cycle\n",
    "    for epoch in range(epochs):\n",
    "        batch_i = 1\n",
    "        for batch_features, batch_labels in helper.load_preprocess_training_batch(batch_i, batch_size):\n",
    "            train_neural_network(sess, optimizer, keep_probability, batch_features, batch_labels)\n",
    "        print('Epoch {:>2}, CIFAR-10 Batch {}:  '.format(epoch + 1, batch_i), end='')\n",
    "        print_stats(sess, batch_features, batch_labels, cost, accuracy)"
   ]
  },
  {
   "cell_type": "markdown",
   "metadata": {},
   "source": [
    "### Fully Train the Model\n",
    "Now that you got a good accuracy with a single CIFAR-10 batch, try it with all five batches."
   ]
  },
  {
   "cell_type": "code",
   "execution_count": 35,
   "metadata": {},
   "outputs": [
    {
     "name": "stdout",
     "output_type": "stream",
     "text": [
      "Training...\n",
      "Epoch  1, CIFAR-10 Batch 1:  Loss: 1.9722 Validation Accuracy: 0.2946\n",
      "Epoch  1, CIFAR-10 Batch 2:  Loss: 1.6800 Validation Accuracy: 0.4146\n",
      "Epoch  1, CIFAR-10 Batch 3:  Loss: 1.4328 Validation Accuracy: 0.4312\n",
      "Epoch  1, CIFAR-10 Batch 4:  Loss: 1.3943 Validation Accuracy: 0.4872\n",
      "Epoch  1, CIFAR-10 Batch 5:  Loss: 1.3744 Validation Accuracy: 0.5030\n",
      "Epoch  2, CIFAR-10 Batch 1:  Loss: 1.3980 Validation Accuracy: 0.5160\n",
      "Epoch  2, CIFAR-10 Batch 2:  Loss: 1.2181 Validation Accuracy: 0.5234\n",
      "Epoch  2, CIFAR-10 Batch 3:  Loss: 1.1041 Validation Accuracy: 0.5354\n",
      "Epoch  2, CIFAR-10 Batch 4:  Loss: 1.1391 Validation Accuracy: 0.5490\n",
      "Epoch  2, CIFAR-10 Batch 5:  Loss: 1.1291 Validation Accuracy: 0.5608\n",
      "Epoch  3, CIFAR-10 Batch 1:  Loss: 1.2008 Validation Accuracy: 0.5782\n",
      "Epoch  3, CIFAR-10 Batch 2:  Loss: 1.0602 Validation Accuracy: 0.5674\n",
      "Epoch  3, CIFAR-10 Batch 3:  Loss: 0.9390 Validation Accuracy: 0.5766\n",
      "Epoch  3, CIFAR-10 Batch 4:  Loss: 0.9733 Validation Accuracy: 0.5910\n",
      "Epoch  3, CIFAR-10 Batch 5:  Loss: 0.9673 Validation Accuracy: 0.5938\n",
      "Epoch  4, CIFAR-10 Batch 1:  Loss: 1.0771 Validation Accuracy: 0.5986\n",
      "Epoch  4, CIFAR-10 Batch 2:  Loss: 0.9500 Validation Accuracy: 0.5922\n",
      "Epoch  4, CIFAR-10 Batch 3:  Loss: 0.8333 Validation Accuracy: 0.5974\n",
      "Epoch  4, CIFAR-10 Batch 4:  Loss: 0.8719 Validation Accuracy: 0.6050\n",
      "Epoch  4, CIFAR-10 Batch 5:  Loss: 0.8518 Validation Accuracy: 0.6170\n",
      "Epoch  5, CIFAR-10 Batch 1:  Loss: 0.9706 Validation Accuracy: 0.6178\n",
      "Epoch  5, CIFAR-10 Batch 2:  Loss: 0.8458 Validation Accuracy: 0.6114\n",
      "Epoch  5, CIFAR-10 Batch 3:  Loss: 0.7473 Validation Accuracy: 0.6242\n",
      "Epoch  5, CIFAR-10 Batch 4:  Loss: 0.7928 Validation Accuracy: 0.6158\n",
      "Epoch  5, CIFAR-10 Batch 5:  Loss: 0.7601 Validation Accuracy: 0.6272\n",
      "Epoch  6, CIFAR-10 Batch 1:  Loss: 0.8843 Validation Accuracy: 0.6266\n",
      "Epoch  6, CIFAR-10 Batch 2:  Loss: 0.7625 Validation Accuracy: 0.6216\n",
      "Epoch  6, CIFAR-10 Batch 3:  Loss: 0.6788 Validation Accuracy: 0.6380\n",
      "Epoch  6, CIFAR-10 Batch 4:  Loss: 0.7204 Validation Accuracy: 0.6228\n",
      "Epoch  6, CIFAR-10 Batch 5:  Loss: 0.6862 Validation Accuracy: 0.6368\n",
      "Epoch  7, CIFAR-10 Batch 1:  Loss: 0.8183 Validation Accuracy: 0.6338\n",
      "Epoch  7, CIFAR-10 Batch 2:  Loss: 0.6935 Validation Accuracy: 0.6288\n",
      "Epoch  7, CIFAR-10 Batch 3:  Loss: 0.6277 Validation Accuracy: 0.6436\n",
      "Epoch  7, CIFAR-10 Batch 4:  Loss: 0.6558 Validation Accuracy: 0.6296\n",
      "Epoch  7, CIFAR-10 Batch 5:  Loss: 0.6331 Validation Accuracy: 0.6374\n",
      "Epoch  8, CIFAR-10 Batch 1:  Loss: 0.7638 Validation Accuracy: 0.6368\n",
      "Epoch  8, CIFAR-10 Batch 2:  Loss: 0.6425 Validation Accuracy: 0.6246\n",
      "Epoch  8, CIFAR-10 Batch 3:  Loss: 0.5807 Validation Accuracy: 0.6402\n",
      "Epoch  8, CIFAR-10 Batch 4:  Loss: 0.5936 Validation Accuracy: 0.6396\n",
      "Epoch  8, CIFAR-10 Batch 5:  Loss: 0.5777 Validation Accuracy: 0.6386\n",
      "Epoch  9, CIFAR-10 Batch 1:  Loss: 0.6829 Validation Accuracy: 0.6492\n",
      "Epoch  9, CIFAR-10 Batch 2:  Loss: 0.6232 Validation Accuracy: 0.6124\n",
      "Epoch  9, CIFAR-10 Batch 3:  Loss: 0.5308 Validation Accuracy: 0.6380\n",
      "Epoch  9, CIFAR-10 Batch 4:  Loss: 0.5434 Validation Accuracy: 0.6416\n",
      "Epoch  9, CIFAR-10 Batch 5:  Loss: 0.5208 Validation Accuracy: 0.6372\n",
      "Epoch 10, CIFAR-10 Batch 1:  Loss: 0.6327 Validation Accuracy: 0.6506\n",
      "Epoch 10, CIFAR-10 Batch 2:  Loss: 0.5833 Validation Accuracy: 0.6068\n",
      "Epoch 10, CIFAR-10 Batch 3:  Loss: 0.4988 Validation Accuracy: 0.6352\n",
      "Epoch 10, CIFAR-10 Batch 4:  Loss: 0.4870 Validation Accuracy: 0.6448\n",
      "Epoch 10, CIFAR-10 Batch 5:  Loss: 0.4922 Validation Accuracy: 0.6340\n",
      "Epoch 11, CIFAR-10 Batch 1:  Loss: 0.6262 Validation Accuracy: 0.6308\n",
      "Epoch 11, CIFAR-10 Batch 2:  Loss: 0.5527 Validation Accuracy: 0.6176\n",
      "Epoch 11, CIFAR-10 Batch 3:  Loss: 0.4953 Validation Accuracy: 0.6198\n",
      "Epoch 11, CIFAR-10 Batch 4:  Loss: 0.4518 Validation Accuracy: 0.6406\n",
      "Epoch 11, CIFAR-10 Batch 5:  Loss: 0.4353 Validation Accuracy: 0.6440\n",
      "Epoch 12, CIFAR-10 Batch 1:  Loss: 0.5348 Validation Accuracy: 0.6522\n",
      "Epoch 12, CIFAR-10 Batch 2:  Loss: 0.4846 Validation Accuracy: 0.6330\n",
      "Epoch 12, CIFAR-10 Batch 3:  Loss: 0.4294 Validation Accuracy: 0.6350\n",
      "Epoch 12, CIFAR-10 Batch 4:  Loss: 0.4124 Validation Accuracy: 0.6416\n",
      "Epoch 12, CIFAR-10 Batch 5:  Loss: 0.3822 Validation Accuracy: 0.6476\n",
      "Epoch 13, CIFAR-10 Batch 1:  Loss: 0.4761 Validation Accuracy: 0.6522\n",
      "Epoch 13, CIFAR-10 Batch 2:  Loss: 0.4316 Validation Accuracy: 0.6368\n",
      "Epoch 13, CIFAR-10 Batch 3:  Loss: 0.3761 Validation Accuracy: 0.6436\n",
      "Epoch 13, CIFAR-10 Batch 4:  Loss: 0.3772 Validation Accuracy: 0.6392\n",
      "Epoch 13, CIFAR-10 Batch 5:  Loss: 0.3407 Validation Accuracy: 0.6534\n",
      "Epoch 14, CIFAR-10 Batch 1:  Loss: 0.4316 Validation Accuracy: 0.6564\n",
      "Epoch 14, CIFAR-10 Batch 2:  Loss: 0.3912 Validation Accuracy: 0.6394\n",
      "Epoch 14, CIFAR-10 Batch 3:  Loss: 0.3333 Validation Accuracy: 0.6474\n",
      "Epoch 14, CIFAR-10 Batch 4:  Loss: 0.3422 Validation Accuracy: 0.6394\n",
      "Epoch 14, CIFAR-10 Batch 5:  Loss: 0.3042 Validation Accuracy: 0.6540\n",
      "Epoch 15, CIFAR-10 Batch 1:  Loss: 0.3924 Validation Accuracy: 0.6584\n",
      "Epoch 15, CIFAR-10 Batch 2:  Loss: 0.3678 Validation Accuracy: 0.6366\n",
      "Epoch 15, CIFAR-10 Batch 3:  Loss: 0.3024 Validation Accuracy: 0.6508\n",
      "Epoch 15, CIFAR-10 Batch 4:  Loss: 0.2904 Validation Accuracy: 0.6466\n",
      "Epoch 15, CIFAR-10 Batch 5:  Loss: 0.2754 Validation Accuracy: 0.6560\n",
      "Epoch 16, CIFAR-10 Batch 1:  Loss: 0.3585 Validation Accuracy: 0.6526\n",
      "Epoch 16, CIFAR-10 Batch 2:  Loss: 0.3397 Validation Accuracy: 0.6308\n",
      "Epoch 16, CIFAR-10 Batch 3:  Loss: 0.2929 Validation Accuracy: 0.6430\n",
      "Epoch 16, CIFAR-10 Batch 4:  Loss: 0.2749 Validation Accuracy: 0.6478\n",
      "Epoch 16, CIFAR-10 Batch 5:  Loss: 0.3076 Validation Accuracy: 0.6334\n",
      "Epoch 17, CIFAR-10 Batch 1:  Loss: 0.3493 Validation Accuracy: 0.6464\n",
      "Epoch 17, CIFAR-10 Batch 2:  Loss: 0.3125 Validation Accuracy: 0.6278\n",
      "Epoch 17, CIFAR-10 Batch 3:  Loss: 0.2827 Validation Accuracy: 0.6382\n",
      "Epoch 17, CIFAR-10 Batch 4:  Loss: 0.2715 Validation Accuracy: 0.6414\n",
      "Epoch 17, CIFAR-10 Batch 5:  Loss: 0.3013 Validation Accuracy: 0.6372\n",
      "Epoch 18, CIFAR-10 Batch 1:  Loss: 0.3612 Validation Accuracy: 0.6362\n",
      "Epoch 18, CIFAR-10 Batch 2:  Loss: 0.3239 Validation Accuracy: 0.6236\n",
      "Epoch 18, CIFAR-10 Batch 3:  Loss: 0.2723 Validation Accuracy: 0.6452\n",
      "Epoch 18, CIFAR-10 Batch 4:  Loss: 0.2552 Validation Accuracy: 0.6400\n",
      "Epoch 18, CIFAR-10 Batch 5:  Loss: 0.2868 Validation Accuracy: 0.6330\n",
      "Epoch 19, CIFAR-10 Batch 1:  Loss: 0.3330 Validation Accuracy: 0.6376\n",
      "Epoch 19, CIFAR-10 Batch 2:  Loss: 0.2875 Validation Accuracy: 0.6346\n",
      "Epoch 19, CIFAR-10 Batch 3:  Loss: 0.2445 Validation Accuracy: 0.6400\n",
      "Epoch 19, CIFAR-10 Batch 4:  Loss: 0.2524 Validation Accuracy: 0.6374\n",
      "Epoch 19, CIFAR-10 Batch 5:  Loss: 0.2615 Validation Accuracy: 0.6330\n",
      "Epoch 20, CIFAR-10 Batch 1:  Loss: 0.2935 Validation Accuracy: 0.6394\n",
      "Epoch 20, CIFAR-10 Batch 2:  Loss: 0.2705 Validation Accuracy: 0.6290\n",
      "Epoch 20, CIFAR-10 Batch 3:  Loss: 0.2674 Validation Accuracy: 0.6282\n",
      "Epoch 20, CIFAR-10 Batch 4:  Loss: 0.2305 Validation Accuracy: 0.6320\n",
      "Epoch 20, CIFAR-10 Batch 5:  Loss: 0.2582 Validation Accuracy: 0.6310\n",
      "Epoch 21, CIFAR-10 Batch 1:  Loss: 0.2706 Validation Accuracy: 0.6486\n",
      "Epoch 21, CIFAR-10 Batch 2:  Loss: 0.2662 Validation Accuracy: 0.6194\n",
      "Epoch 21, CIFAR-10 Batch 3:  Loss: 0.2246 Validation Accuracy: 0.6332\n",
      "Epoch 21, CIFAR-10 Batch 4:  Loss: 0.1979 Validation Accuracy: 0.6348\n",
      "Epoch 21, CIFAR-10 Batch 5:  Loss: 0.2250 Validation Accuracy: 0.6386\n",
      "Epoch 22, CIFAR-10 Batch 1:  Loss: 0.2393 Validation Accuracy: 0.6588\n",
      "Epoch 22, CIFAR-10 Batch 2:  Loss: 0.2316 Validation Accuracy: 0.6254\n",
      "Epoch 22, CIFAR-10 Batch 3:  Loss: 0.1873 Validation Accuracy: 0.6436\n",
      "Epoch 22, CIFAR-10 Batch 4:  Loss: 0.1519 Validation Accuracy: 0.6476\n",
      "Epoch 22, CIFAR-10 Batch 5:  Loss: 0.1782 Validation Accuracy: 0.6378\n",
      "Epoch 23, CIFAR-10 Batch 1:  Loss: 0.2273 Validation Accuracy: 0.6518\n",
      "Epoch 23, CIFAR-10 Batch 2:  Loss: 0.2016 Validation Accuracy: 0.6334\n",
      "Epoch 23, CIFAR-10 Batch 3:  Loss: 0.1533 Validation Accuracy: 0.6518\n",
      "Epoch 23, CIFAR-10 Batch 4:  Loss: 0.1375 Validation Accuracy: 0.6472\n",
      "Epoch 23, CIFAR-10 Batch 5:  Loss: 0.1636 Validation Accuracy: 0.6390\n",
      "Epoch 24, CIFAR-10 Batch 1:  Loss: 0.2405 Validation Accuracy: 0.6438\n",
      "Epoch 24, CIFAR-10 Batch 2:  Loss: 0.1797 Validation Accuracy: 0.6492\n"
     ]
    },
    {
     "name": "stdout",
     "output_type": "stream",
     "text": [
      "Epoch 24, CIFAR-10 Batch 3:  Loss: 0.1376 Validation Accuracy: 0.6518\n",
      "Epoch 24, CIFAR-10 Batch 4:  Loss: 0.1443 Validation Accuracy: 0.6370\n",
      "Epoch 24, CIFAR-10 Batch 5:  Loss: 0.1582 Validation Accuracy: 0.6418\n",
      "Epoch 25, CIFAR-10 Batch 1:  Loss: 0.2257 Validation Accuracy: 0.6436\n",
      "Epoch 25, CIFAR-10 Batch 2:  Loss: 0.1739 Validation Accuracy: 0.6532\n",
      "Epoch 25, CIFAR-10 Batch 3:  Loss: 0.1641 Validation Accuracy: 0.6180\n",
      "Epoch 25, CIFAR-10 Batch 4:  Loss: 0.1841 Validation Accuracy: 0.6086\n",
      "Epoch 25, CIFAR-10 Batch 5:  Loss: 0.1461 Validation Accuracy: 0.6432\n",
      "Epoch 26, CIFAR-10 Batch 1:  Loss: 0.1885 Validation Accuracy: 0.6432\n",
      "Epoch 26, CIFAR-10 Batch 2:  Loss: 0.2028 Validation Accuracy: 0.6280\n",
      "Epoch 26, CIFAR-10 Batch 3:  Loss: 0.1660 Validation Accuracy: 0.6110\n",
      "Epoch 26, CIFAR-10 Batch 4:  Loss: 0.2424 Validation Accuracy: 0.5838\n",
      "Epoch 26, CIFAR-10 Batch 5:  Loss: 0.1665 Validation Accuracy: 0.6336\n",
      "Epoch 27, CIFAR-10 Batch 1:  Loss: 0.1947 Validation Accuracy: 0.6232\n",
      "Epoch 27, CIFAR-10 Batch 2:  Loss: 0.1632 Validation Accuracy: 0.6432\n",
      "Epoch 27, CIFAR-10 Batch 3:  Loss: 0.1331 Validation Accuracy: 0.6266\n",
      "Epoch 27, CIFAR-10 Batch 4:  Loss: 0.1783 Validation Accuracy: 0.6122\n",
      "Epoch 27, CIFAR-10 Batch 5:  Loss: 0.1467 Validation Accuracy: 0.6166\n",
      "Epoch 28, CIFAR-10 Batch 1:  Loss: 0.1731 Validation Accuracy: 0.6240\n",
      "Epoch 28, CIFAR-10 Batch 2:  Loss: 0.1581 Validation Accuracy: 0.6360\n",
      "Epoch 28, CIFAR-10 Batch 3:  Loss: 0.1172 Validation Accuracy: 0.6326\n",
      "Epoch 28, CIFAR-10 Batch 4:  Loss: 0.1526 Validation Accuracy: 0.6228\n",
      "Epoch 28, CIFAR-10 Batch 5:  Loss: 0.1622 Validation Accuracy: 0.6084\n",
      "Epoch 29, CIFAR-10 Batch 1:  Loss: 0.1401 Validation Accuracy: 0.6450\n",
      "Epoch 29, CIFAR-10 Batch 2:  Loss: 0.1157 Validation Accuracy: 0.6470\n",
      "Epoch 29, CIFAR-10 Batch 3:  Loss: 0.0942 Validation Accuracy: 0.6460\n",
      "Epoch 29, CIFAR-10 Batch 4:  Loss: 0.1204 Validation Accuracy: 0.6334\n",
      "Epoch 29, CIFAR-10 Batch 5:  Loss: 0.1175 Validation Accuracy: 0.6232\n",
      "Epoch 30, CIFAR-10 Batch 1:  Loss: 0.1221 Validation Accuracy: 0.6500\n",
      "Epoch 30, CIFAR-10 Batch 2:  Loss: 0.1014 Validation Accuracy: 0.6564\n",
      "Epoch 30, CIFAR-10 Batch 3:  Loss: 0.0948 Validation Accuracy: 0.6392\n",
      "Epoch 30, CIFAR-10 Batch 4:  Loss: 0.0983 Validation Accuracy: 0.6424\n",
      "Epoch 30, CIFAR-10 Batch 5:  Loss: 0.0867 Validation Accuracy: 0.6444\n",
      "Epoch 31, CIFAR-10 Batch 1:  Loss: 0.1154 Validation Accuracy: 0.6468\n",
      "Epoch 31, CIFAR-10 Batch 2:  Loss: 0.0887 Validation Accuracy: 0.6538\n",
      "Epoch 31, CIFAR-10 Batch 3:  Loss: 0.0878 Validation Accuracy: 0.6328\n",
      "Epoch 31, CIFAR-10 Batch 4:  Loss: 0.0915 Validation Accuracy: 0.6348\n",
      "Epoch 31, CIFAR-10 Batch 5:  Loss: 0.0820 Validation Accuracy: 0.6410\n",
      "Epoch 32, CIFAR-10 Batch 1:  Loss: 0.1222 Validation Accuracy: 0.6328\n",
      "Epoch 32, CIFAR-10 Batch 2:  Loss: 0.1021 Validation Accuracy: 0.6370\n",
      "Epoch 32, CIFAR-10 Batch 3:  Loss: 0.0998 Validation Accuracy: 0.6168\n",
      "Epoch 32, CIFAR-10 Batch 4:  Loss: 0.0764 Validation Accuracy: 0.6386\n",
      "Epoch 32, CIFAR-10 Batch 5:  Loss: 0.0757 Validation Accuracy: 0.6416\n",
      "Epoch 33, CIFAR-10 Batch 1:  Loss: 0.1158 Validation Accuracy: 0.6234\n",
      "Epoch 33, CIFAR-10 Batch 2:  Loss: 0.1342 Validation Accuracy: 0.6044\n",
      "Epoch 33, CIFAR-10 Batch 3:  Loss: 0.1557 Validation Accuracy: 0.5916\n",
      "Epoch 33, CIFAR-10 Batch 4:  Loss: 0.0840 Validation Accuracy: 0.6426\n",
      "Epoch 33, CIFAR-10 Batch 5:  Loss: 0.0735 Validation Accuracy: 0.6402\n",
      "Epoch 34, CIFAR-10 Batch 1:  Loss: 0.1076 Validation Accuracy: 0.6284\n",
      "Epoch 34, CIFAR-10 Batch 2:  Loss: 0.1148 Validation Accuracy: 0.6222\n",
      "Epoch 34, CIFAR-10 Batch 3:  Loss: 0.0946 Validation Accuracy: 0.6184\n",
      "Epoch 34, CIFAR-10 Batch 4:  Loss: 0.1496 Validation Accuracy: 0.6278\n",
      "Epoch 34, CIFAR-10 Batch 5:  Loss: 0.0981 Validation Accuracy: 0.6234\n",
      "Epoch 35, CIFAR-10 Batch 1:  Loss: 0.1083 Validation Accuracy: 0.6336\n",
      "Epoch 35, CIFAR-10 Batch 2:  Loss: 0.0700 Validation Accuracy: 0.6396\n",
      "Epoch 35, CIFAR-10 Batch 3:  Loss: 0.0815 Validation Accuracy: 0.6256\n",
      "Epoch 35, CIFAR-10 Batch 4:  Loss: 0.1277 Validation Accuracy: 0.6188\n",
      "Epoch 35, CIFAR-10 Batch 5:  Loss: 0.0802 Validation Accuracy: 0.6300\n",
      "Epoch 36, CIFAR-10 Batch 1:  Loss: 0.0836 Validation Accuracy: 0.6390\n",
      "Epoch 36, CIFAR-10 Batch 2:  Loss: 0.0804 Validation Accuracy: 0.6326\n",
      "Epoch 36, CIFAR-10 Batch 3:  Loss: 0.0642 Validation Accuracy: 0.6422\n",
      "Epoch 36, CIFAR-10 Batch 4:  Loss: 0.1281 Validation Accuracy: 0.6034\n",
      "Epoch 36, CIFAR-10 Batch 5:  Loss: 0.1143 Validation Accuracy: 0.6240\n",
      "Epoch 37, CIFAR-10 Batch 1:  Loss: 0.0664 Validation Accuracy: 0.6476\n",
      "Epoch 37, CIFAR-10 Batch 2:  Loss: 0.0790 Validation Accuracy: 0.6308\n",
      "Epoch 37, CIFAR-10 Batch 3:  Loss: 0.0627 Validation Accuracy: 0.6356\n",
      "Epoch 37, CIFAR-10 Batch 4:  Loss: 0.0787 Validation Accuracy: 0.6106\n",
      "Epoch 37, CIFAR-10 Batch 5:  Loss: 0.0617 Validation Accuracy: 0.6414\n",
      "Epoch 38, CIFAR-10 Batch 1:  Loss: 0.0633 Validation Accuracy: 0.6488\n",
      "Epoch 38, CIFAR-10 Batch 2:  Loss: 0.0698 Validation Accuracy: 0.6338\n",
      "Epoch 38, CIFAR-10 Batch 3:  Loss: 0.0851 Validation Accuracy: 0.6154\n",
      "Epoch 38, CIFAR-10 Batch 4:  Loss: 0.0505 Validation Accuracy: 0.6278\n",
      "Epoch 38, CIFAR-10 Batch 5:  Loss: 0.0605 Validation Accuracy: 0.6456\n",
      "Epoch 39, CIFAR-10 Batch 1:  Loss: 0.0766 Validation Accuracy: 0.6320\n",
      "Epoch 39, CIFAR-10 Batch 2:  Loss: 0.0527 Validation Accuracy: 0.6414\n",
      "Epoch 39, CIFAR-10 Batch 3:  Loss: 0.0599 Validation Accuracy: 0.6248\n",
      "Epoch 39, CIFAR-10 Batch 4:  Loss: 0.0819 Validation Accuracy: 0.6084\n",
      "Epoch 39, CIFAR-10 Batch 5:  Loss: 0.0521 Validation Accuracy: 0.6418\n",
      "Epoch 40, CIFAR-10 Batch 1:  Loss: 0.0617 Validation Accuracy: 0.6370\n",
      "Epoch 40, CIFAR-10 Batch 2:  Loss: 0.0638 Validation Accuracy: 0.6330\n",
      "Epoch 40, CIFAR-10 Batch 3:  Loss: 0.0557 Validation Accuracy: 0.6334\n",
      "Epoch 40, CIFAR-10 Batch 4:  Loss: 0.0680 Validation Accuracy: 0.6134\n",
      "Epoch 40, CIFAR-10 Batch 5:  Loss: 0.0634 Validation Accuracy: 0.6274\n",
      "Epoch 41, CIFAR-10 Batch 1:  Loss: 0.0667 Validation Accuracy: 0.6424\n",
      "Epoch 41, CIFAR-10 Batch 2:  Loss: 0.0370 Validation Accuracy: 0.6468\n",
      "Epoch 41, CIFAR-10 Batch 3:  Loss: 0.0411 Validation Accuracy: 0.6320\n",
      "Epoch 41, CIFAR-10 Batch 4:  Loss: 0.0644 Validation Accuracy: 0.6172\n",
      "Epoch 41, CIFAR-10 Batch 5:  Loss: 0.0638 Validation Accuracy: 0.6122\n",
      "Epoch 42, CIFAR-10 Batch 1:  Loss: 0.0893 Validation Accuracy: 0.6282\n",
      "Epoch 42, CIFAR-10 Batch 2:  Loss: 0.0391 Validation Accuracy: 0.6434\n",
      "Epoch 42, CIFAR-10 Batch 3:  Loss: 0.0336 Validation Accuracy: 0.6432\n",
      "Epoch 42, CIFAR-10 Batch 4:  Loss: 0.0741 Validation Accuracy: 0.6022\n",
      "Epoch 42, CIFAR-10 Batch 5:  Loss: 0.0831 Validation Accuracy: 0.6074\n",
      "Epoch 43, CIFAR-10 Batch 1:  Loss: 0.0638 Validation Accuracy: 0.6422\n",
      "Epoch 43, CIFAR-10 Batch 2:  Loss: 0.0588 Validation Accuracy: 0.6382\n",
      "Epoch 43, CIFAR-10 Batch 3:  Loss: 0.0376 Validation Accuracy: 0.6356\n",
      "Epoch 43, CIFAR-10 Batch 4:  Loss: 0.0456 Validation Accuracy: 0.6188\n",
      "Epoch 43, CIFAR-10 Batch 5:  Loss: 0.0483 Validation Accuracy: 0.6306\n",
      "Epoch 44, CIFAR-10 Batch 1:  Loss: 0.0856 Validation Accuracy: 0.6358\n",
      "Epoch 44, CIFAR-10 Batch 2:  Loss: 0.0556 Validation Accuracy: 0.6362\n",
      "Epoch 44, CIFAR-10 Batch 3:  Loss: 0.0347 Validation Accuracy: 0.6292\n",
      "Epoch 44, CIFAR-10 Batch 4:  Loss: 0.0317 Validation Accuracy: 0.6308\n",
      "Epoch 44, CIFAR-10 Batch 5:  Loss: 0.0562 Validation Accuracy: 0.6122\n",
      "Epoch 45, CIFAR-10 Batch 1:  Loss: 0.0398 Validation Accuracy: 0.6446\n",
      "Epoch 45, CIFAR-10 Batch 2:  Loss: 0.0636 Validation Accuracy: 0.6200\n",
      "Epoch 45, CIFAR-10 Batch 3:  Loss: 0.0598 Validation Accuracy: 0.6058\n",
      "Epoch 45, CIFAR-10 Batch 4:  Loss: 0.0224 Validation Accuracy: 0.6388\n",
      "Epoch 45, CIFAR-10 Batch 5:  Loss: 0.0310 Validation Accuracy: 0.6230\n",
      "Epoch 46, CIFAR-10 Batch 1:  Loss: 0.0546 Validation Accuracy: 0.6334\n",
      "Epoch 46, CIFAR-10 Batch 2:  Loss: 0.0397 Validation Accuracy: 0.6252\n",
      "Epoch 46, CIFAR-10 Batch 3:  Loss: 0.0514 Validation Accuracy: 0.6054\n",
      "Epoch 46, CIFAR-10 Batch 4:  Loss: 0.0258 Validation Accuracy: 0.6392\n",
      "Epoch 46, CIFAR-10 Batch 5:  Loss: 0.0344 Validation Accuracy: 0.6288\n",
      "Epoch 47, CIFAR-10 Batch 1:  Loss: 0.0493 Validation Accuracy: 0.6162\n",
      "Epoch 47, CIFAR-10 Batch 2:  Loss: 0.0450 Validation Accuracy: 0.6250\n",
      "Epoch 47, CIFAR-10 Batch 3:  Loss: 0.0287 Validation Accuracy: 0.6356\n",
      "Epoch 47, CIFAR-10 Batch 4:  Loss: 0.0370 Validation Accuracy: 0.6204\n"
     ]
    },
    {
     "name": "stdout",
     "output_type": "stream",
     "text": [
      "Epoch 47, CIFAR-10 Batch 5:  Loss: 0.0389 Validation Accuracy: 0.6344\n",
      "Epoch 48, CIFAR-10 Batch 1:  Loss: 0.0296 Validation Accuracy: 0.6336\n",
      "Epoch 48, CIFAR-10 Batch 2:  Loss: 0.0680 Validation Accuracy: 0.6060\n",
      "Epoch 48, CIFAR-10 Batch 3:  Loss: 0.0548 Validation Accuracy: 0.6214\n",
      "Epoch 48, CIFAR-10 Batch 4:  Loss: 0.0529 Validation Accuracy: 0.6200\n",
      "Epoch 48, CIFAR-10 Batch 5:  Loss: 0.0371 Validation Accuracy: 0.6360\n",
      "Epoch 49, CIFAR-10 Batch 1:  Loss: 0.0429 Validation Accuracy: 0.6396\n",
      "Epoch 49, CIFAR-10 Batch 2:  Loss: 0.0237 Validation Accuracy: 0.6314\n",
      "Epoch 49, CIFAR-10 Batch 3:  Loss: 0.0313 Validation Accuracy: 0.6322\n",
      "Epoch 49, CIFAR-10 Batch 4:  Loss: 0.0356 Validation Accuracy: 0.6286\n",
      "Epoch 49, CIFAR-10 Batch 5:  Loss: 0.0237 Validation Accuracy: 0.6336\n",
      "Epoch 50, CIFAR-10 Batch 1:  Loss: 0.0204 Validation Accuracy: 0.6468\n",
      "Epoch 50, CIFAR-10 Batch 2:  Loss: 0.0203 Validation Accuracy: 0.6342\n",
      "Epoch 50, CIFAR-10 Batch 3:  Loss: 0.0193 Validation Accuracy: 0.6392\n",
      "Epoch 50, CIFAR-10 Batch 4:  Loss: 0.0215 Validation Accuracy: 0.6360\n",
      "Epoch 50, CIFAR-10 Batch 5:  Loss: 0.0298 Validation Accuracy: 0.6268\n"
     ]
    }
   ],
   "source": [
    "\"\"\"\n",
    "DON'T MODIFY ANYTHING IN THIS CELL\n",
    "\"\"\"\n",
    "save_model_path = './image_classification'\n",
    "\n",
    "print('Training...')\n",
    "with tf.Session() as sess:\n",
    "    # Initializing the variables\n",
    "    sess.run(tf.global_variables_initializer())\n",
    "    \n",
    "    # Training cycle\n",
    "    for epoch in range(epochs):\n",
    "        # Loop over all batches\n",
    "        n_batches = 5\n",
    "        for batch_i in range(1, n_batches + 1):\n",
    "            for batch_features, batch_labels in helper.load_preprocess_training_batch(batch_i, batch_size):\n",
    "                train_neural_network(sess, optimizer, keep_probability, batch_features, batch_labels)\n",
    "            print('Epoch {:>2}, CIFAR-10 Batch {}:  '.format(epoch + 1, batch_i), end='')\n",
    "            print_stats(sess, batch_features, batch_labels, cost, accuracy)\n",
    "            \n",
    "    # Save Model\n",
    "    saver = tf.train.Saver()\n",
    "    save_path = saver.save(sess, save_model_path)"
   ]
  },
  {
   "cell_type": "markdown",
   "metadata": {},
   "source": [
    "# Checkpoint\n",
    "The model has been saved to disk.\n",
    "## Test Model\n",
    "Test your model against the test dataset.  This will be your final accuracy. You should have an accuracy greater than 50%. If you don't, keep tweaking the model architecture and parameters."
   ]
  },
  {
   "cell_type": "code",
   "execution_count": 36,
   "metadata": {},
   "outputs": [
    {
     "name": "stdout",
     "output_type": "stream",
     "text": [
      "INFO:tensorflow:Restoring parameters from ./image_classification\n",
      "Testing Accuracy: 0.62679802775383\n",
      "\n"
     ]
    },
    {
     "data": {
      "image/png": "[encoded data removed]",
      "text/plain": [
       "<matplotlib.figure.Figure at 0x7f2e110fc470>"
      ]
     },
     "metadata": {
      "image/png": {
       "height": 319,
       "width": 355
      }
     },
     "output_type": "display_data"
    }
   ],
   "source": [
    "\"\"\"\n",
    "DON'T MODIFY ANYTHING IN THIS CELL\n",
    "\"\"\"\n",
    "%matplotlib inline\n",
    "%config InlineBackend.figure_format = 'retina'\n",
    "\n",
    "import tensorflow as tf\n",
    "import pickle\n",
    "import helper\n",
    "import random\n",
    "\n",
    "# Set batch size if not already set\n",
    "try:\n",
    "    if batch_size:\n",
    "        pass\n",
    "except NameError:\n",
    "    batch_size = 64\n",
    "\n",
    "save_model_path = './image_classification'\n",
    "n_samples = 4\n",
    "top_n_predictions = 3\n",
    "\n",
    "def test_model():\n",
    "    \"\"\"\n",
    "    Test the saved model against the test dataset\n",
    "    \"\"\"\n",
    "\n",
    "    test_features, test_labels = pickle.load(open('preprocess_test.p', mode='rb'))\n",
    "    loaded_graph = tf.Graph()\n",
    "\n",
    "    with tf.Session(graph=loaded_graph) as sess:\n",
    "        # Load model\n",
    "        loader = tf.train.import_meta_graph(save_model_path + '.meta')\n",
    "        loader.restore(sess, save_model_path)\n",
    "\n",
    "        # Get Tensors from loaded model\n",
    "        loaded_x = loaded_graph.get_tensor_by_name('x:0')\n",
    "        loaded_y = loaded_graph.get_tensor_by_name('y:0')\n",
    "        loaded_keep_prob = loaded_graph.get_tensor_by_name('keep_prob:0')\n",
    "        loaded_logits = loaded_graph.get_tensor_by_name('logits:0')\n",
    "        loaded_acc = loaded_graph.get_tensor_by_name('accuracy:0')\n",
    "        \n",
    "        # Get accuracy in batches for memory limitations\n",
    "        test_batch_acc_total = 0\n",
    "        test_batch_count = 0\n",
    "        \n",
    "        for test_feature_batch, test_label_batch in helper.batch_features_labels(test_features, test_labels, batch_size):\n",
    "            test_batch_acc_total += sess.run(\n",
    "                loaded_acc,\n",
    "                feed_dict={loaded_x: test_feature_batch, loaded_y: test_label_batch, loaded_keep_prob: 1.0})\n",
    "            test_batch_count += 1\n",
    "\n",
    "        print('Testing Accuracy: {}\\n'.format(test_batch_acc_total/test_batch_count))\n",
    "\n",
    "        # Print Random Samples\n",
    "        random_test_features, random_test_labels = tuple(zip(*random.sample(list(zip(test_features, test_labels)), n_samples)))\n",
    "        random_test_predictions = sess.run(\n",
    "            tf.nn.top_k(tf.nn.softmax(loaded_logits), top_n_predictions),\n",
    "            feed_dict={loaded_x: random_test_features, loaded_y: random_test_labels, loaded_keep_prob: 1.0})\n",
    "        helper.display_image_predictions(random_test_features, random_test_labels, random_test_predictions)\n",
    "\n",
    "\n",
    "test_model()"
   ]
  },
  {
   "cell_type": "markdown",
   "metadata": {},
   "source": [
    "## Why 50-80% Accuracy?\n",
    "You might be wondering why you can't get an accuracy any higher. First things first, 50% isn't bad for a simple CNN.  Pure guessing would get you 10% accuracy. However, you might notice people are getting scores [well above 80%](http://rodrigob.github.io/are_we_there_yet/build/classification_datasets_results.html#43494641522d3130).  That's because we haven't taught you all there is to know about neural networks. We still need to cover a few more techniques.\n",
    "## Submitting This Project\n",
    "When submitting this project, make sure to run all the cells before saving the notebook.  Save the notebook file as \"dlnd_image_classification.ipynb\" and save it as a HTML file under \"File\" -> \"Download as\".  Include the \"helper.py\" and \"problem_unittests.py\" files in your submission."
   ]
  }
 ],
 "metadata": {
  "kernelspec": {
   "display_name": "Python 3",
   "language": "python",
   "name": "python3"
  },
  "language_info": {
   "codemirror_mode": {
    "name": "ipython",
    "version": 3
   },
   "file_extension": ".py",
   "mimetype": "text/x-python",
   "name": "python",
   "nbconvert_exporter": "python",
   "pygments_lexer": "ipython3",
   "version": "3.5.3"
  }
 },
 "nbformat": 4,
 "nbformat_minor": 1
}
